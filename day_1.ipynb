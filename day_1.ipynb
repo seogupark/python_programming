{
 "cells": [
  {
   "cell_type": "code",
   "execution_count": 4,
   "metadata": {},
   "outputs": [
    {
     "name": "stdout",
     "output_type": "stream",
     "text": [
      "0.8999999999999999\n",
      "False\n"
     ]
    }
   ],
   "source": [
    "a = 0.3 + 0.6 \n",
    "\n",
    "print(a)\n",
    "\n",
    "if a == 0.9:\n",
    "    print(True)\n",
    "\n",
    "else: \n",
    "    print(False)"
   ]
  },
  {
   "cell_type": "code",
   "execution_count": 5,
   "metadata": {},
   "outputs": [
    {
     "name": "stdout",
     "output_type": "stream",
     "text": [
      "True\n"
     ]
    }
   ],
   "source": [
    "a = round(a, 2) \n",
    "\n",
    "if a == 0.9:\n",
    "    print(True)\n",
    "\n",
    "else:\n",
    "    print(False)"
   ]
  },
  {
   "cell_type": "code",
   "execution_count": 6,
   "metadata": {},
   "outputs": [
    {
     "name": "stdout",
     "output_type": "stream",
     "text": [
      "33.333333333333336\n",
      "1\n",
      "33\n"
     ]
    }
   ],
   "source": [
    "a = 100 \n",
    "b = 3\n",
    "\n",
    "\n",
    "print(a/b)\n",
    "\n",
    "#몫\n",
    "print(a % b)\n",
    "\n",
    "#나머지 \n",
    "print(a // b)"
   ]
  },
  {
   "cell_type": "code",
   "execution_count": 7,
   "metadata": {},
   "outputs": [
    {
     "name": "stdout",
     "output_type": "stream",
     "text": [
      "[]\n"
     ]
    }
   ],
   "source": [
    "#리스트 선언\n",
    "a = list()\n",
    "print(a)"
   ]
  },
  {
   "cell_type": "code",
   "execution_count": 9,
   "metadata": {},
   "outputs": [
    {
     "name": "stdout",
     "output_type": "stream",
     "text": [
      "[0, 0, 0, 0, 0, 0, 0, 0, 0, 0]\n"
     ]
    }
   ],
   "source": [
    "n = 10\n",
    "a = [0]*10\n",
    "\n",
    "print(a)"
   ]
  },
  {
   "cell_type": "code",
   "execution_count": 10,
   "metadata": {},
   "outputs": [
    {
     "name": "stdout",
     "output_type": "stream",
     "text": [
      "9\n",
      "9\n",
      "8\n",
      "7\n"
     ]
    }
   ],
   "source": [
    "a = [1,2,3,4,5,6,7,8,9]\n",
    "\n",
    "print(len(a))\n",
    "\n",
    "print(a[-1])\n",
    "\n",
    "#뒤에서 2번째 원소 출력 \n",
    "print(a[-2])\n",
    "\n",
    "print(a[-3])"
   ]
  },
  {
   "cell_type": "code",
   "execution_count": 11,
   "metadata": {},
   "outputs": [
    {
     "name": "stdout",
     "output_type": "stream",
     "text": [
      "[2, 3, 4]\n"
     ]
    }
   ],
   "source": [
    "print(a[1 : 4])"
   ]
  },
  {
   "cell_type": "code",
   "execution_count": 12,
   "metadata": {},
   "outputs": [
    {
     "name": "stdout",
     "output_type": "stream",
     "text": [
      "[1, 3, 5, 7, 9, 11, 13, 15, 17, 19]\n"
     ]
    }
   ],
   "source": [
    "#list comprehension\n",
    "array = [i for i in range(20) if i % 2 ==1]\n",
    "\n",
    "print(array)"
   ]
  },
  {
   "cell_type": "code",
   "execution_count": 13,
   "metadata": {},
   "outputs": [
    {
     "name": "stdout",
     "output_type": "stream",
     "text": [
      "[1, 3, 5, 7, 9, 11, 13, 15, 17, 19]\n"
     ]
    }
   ],
   "source": [
    "array = [] \n",
    "\n",
    "for i in range(20):\n",
    "    if i % 2 == 1:\n",
    "        array.append(i)\n",
    "    \n",
    "\n",
    "print(array)"
   ]
  },
  {
   "cell_type": "code",
   "execution_count": 14,
   "metadata": {},
   "outputs": [
    {
     "name": "stdout",
     "output_type": "stream",
     "text": [
      "[1, 4, 9, 16, 25, 36, 49, 64, 81]\n"
     ]
    }
   ],
   "source": [
    "array = [i*i for i in range(1,10)]\n",
    "\n",
    "print(array)"
   ]
  },
  {
   "cell_type": "code",
   "execution_count": 15,
   "metadata": {},
   "outputs": [
    {
     "name": "stdout",
     "output_type": "stream",
     "text": [
      "[[0, 0, 0, 0], [0, 0, 0, 0], [0, 0, 0, 0]]\n"
     ]
    }
   ],
   "source": [
    "#n x m 2 dimensional list comprehension \n",
    "n = 3 \n",
    "m = 4\n",
    "\n",
    "array = [[0]*m for _ in range(n)]\n",
    "\n",
    "print(array)"
   ]
  },
  {
   "cell_type": "code",
   "execution_count": 19,
   "metadata": {},
   "outputs": [
    {
     "name": "stdout",
     "output_type": "stream",
     "text": [
      "[1, 4, 3, 2]\n",
      "[1, 4, 4, 3, 2]\n",
      "[1, 4, 3, 2]\n"
     ]
    }
   ],
   "source": [
    "a = [1, 4, 3]\n",
    "\n",
    "a.append(2)\n",
    "\n",
    "print(a)\n",
    "\n",
    "a.insert(2, 4)\n",
    "\n",
    "print(a)\n",
    "\n",
    "a.remove(4)\n",
    "\n",
    "print(a)"
   ]
  },
  {
   "cell_type": "code",
   "execution_count": 21,
   "metadata": {},
   "outputs": [
    {
     "name": "stdout",
     "output_type": "stream",
     "text": [
      "[1, 2, 4]\n"
     ]
    }
   ],
   "source": [
    "#remove\n",
    "\n",
    "a = [1,2,3,4,5,5,5]\n",
    "remove_set = {3, 5}\n",
    "\n",
    "result = [i for i in a if i not in remove_set]\n",
    "\n",
    "print(result)"
   ]
  },
  {
   "cell_type": "code",
   "execution_count": 22,
   "metadata": {},
   "outputs": [
    {
     "name": "stdout",
     "output_type": "stream",
     "text": [
      "hello world\n",
      "Don't you know \"python\"?\n"
     ]
    }
   ],
   "source": [
    "data = 'hello world'\n",
    "print(data)\n",
    "\n",
    "data = \"Don't you know \\\"python\\\"?\"\n",
    "print(data)"
   ]
  },
  {
   "cell_type": "code",
   "execution_count": 23,
   "metadata": {},
   "outputs": [
    {
     "name": "stdout",
     "output_type": "stream",
     "text": [
      "hello world\n"
     ]
    }
   ],
   "source": [
    "a = \"hello\"\n",
    "b = \"world\"\n",
    "print(a + \" \" + b)"
   ]
  },
  {
   "cell_type": "code",
   "execution_count": 25,
   "metadata": {},
   "outputs": [
    {
     "name": "stdout",
     "output_type": "stream",
     "text": [
      "stringstringstring\n",
      "ri\n"
     ]
    }
   ],
   "source": [
    "a = \"string\"\n",
    "\n",
    "print(a*3)\n",
    "\n",
    "print(a[2:4])"
   ]
  },
  {
   "cell_type": "code",
   "execution_count": null,
   "metadata": {},
   "outputs": [],
   "source": [
    "#튜플은 한번 선언된 값을 변경할 수 없다. \n",
    "#()\n",
    "#서로 다른 성질의 데이터 (비용, 노드 번호)\n",
    "\n",
    "\n",
    "\n"
   ]
  },
  {
   "cell_type": "code",
   "execution_count": 26,
   "metadata": {},
   "outputs": [
    {
     "name": "stdout",
     "output_type": "stream",
     "text": [
      "{'사과': 'apple', '바나나': 'banana', '코코넛': 'coconut'}\n"
     ]
    }
   ],
   "source": [
    "#사전 자료형 \n",
    "data = dict()\n",
    "data['사과'] = 'apple'\n",
    "data['바나나'] = 'banana'\n",
    "data['코코넛'] = 'coconut'\n",
    "\n",
    "print(data)"
   ]
  },
  {
   "cell_type": "code",
   "execution_count": 27,
   "metadata": {},
   "outputs": [
    {
     "name": "stdout",
     "output_type": "stream",
     "text": [
      "'사과'를 키로 가지는 데이터가 존재합니다.\n"
     ]
    }
   ],
   "source": [
    "if '사과' in data:\n",
    "    print(\"'사과'를 키로 가지는 데이터가 존재합니다.\")"
   ]
  },
  {
   "attachments": {},
   "cell_type": "markdown",
   "metadata": {},
   "source": [
    "파이썬에서 리스트, 문자열, 튜플 등 순차적인 정보를 담는 자료형을 iterable 자료형이라고 한다. "
   ]
  },
  {
   "cell_type": "code",
   "execution_count": 28,
   "metadata": {},
   "outputs": [
    {
     "name": "stdout",
     "output_type": "stream",
     "text": [
      "dict_keys(['사과', '바나나', '코코넛'])\n",
      "dict_values(['apple', 'banana', 'coconut'])\n"
     ]
    }
   ],
   "source": [
    "key_list = data.keys()\n",
    "value_list = data.values()\n",
    "\n",
    "print(key_list)\n",
    "print(value_list)"
   ]
  },
  {
   "cell_type": "code",
   "execution_count": 30,
   "metadata": {},
   "outputs": [
    {
     "name": "stdout",
     "output_type": "stream",
     "text": [
      "apple\n",
      "banana\n",
      "coconut\n"
     ]
    }
   ],
   "source": [
    "for key in key_list:\n",
    "    print(data[key])"
   ]
  },
  {
   "attachments": {},
   "cell_type": "markdown",
   "metadata": {},
   "source": [
    "집합(set), 기본적으로 리스트 혹은 문자열을 이용해서 만들 수 있다. \n",
    "중복을 허용하지 않는다. \n",
    "순서가 없다. \n",
    "특정 데이터가 이미 등장한 적이 있는지 여부 체크할 때 매우 효과적이다. "
   ]
  },
  {
   "cell_type": "code",
   "execution_count": 31,
   "metadata": {},
   "outputs": [
    {
     "name": "stdout",
     "output_type": "stream",
     "text": [
      "{1, 2, 3, 4, 5}\n",
      "{1, 2, 3, 4, 5}\n"
     ]
    }
   ],
   "source": [
    "#집합 자료형 초기화 방법 1\n",
    "data = set([1, 1, 2, 3, 4, 4, 5])\n",
    "print(data)\n",
    "\n",
    "#집합 자료형 초기화 방법 2\n",
    "data = {1, 1, 2, 3, 4, 4, 5}\n",
    "print(data)"
   ]
  },
  {
   "cell_type": "code",
   "execution_count": 32,
   "metadata": {},
   "outputs": [
    {
     "name": "stdout",
     "output_type": "stream",
     "text": [
      "{1, 2, 3, 4, 5, 6, 7}\n",
      "{3, 4, 5}\n",
      "{1, 2}\n"
     ]
    }
   ],
   "source": [
    "a = set([1, 2, 3, 4, 5])\n",
    "b = set([3, 4, 5, 6, 7])\n",
    "\n",
    "print(a|b) #합집합\n",
    "print(a & b) #교집합\n",
    "print(a - b) #차집합\n",
    "\n"
   ]
  },
  {
   "cell_type": "code",
   "execution_count": 34,
   "metadata": {},
   "outputs": [
    {
     "name": "stdout",
     "output_type": "stream",
     "text": [
      "{1, 2, 3}\n",
      "{1, 2, 3, 4}\n",
      "{1, 2, 3, 4, 5, 6}\n",
      "{1, 2, 4, 5, 6}\n"
     ]
    }
   ],
   "source": [
    "data = set([1,2,3])\n",
    "print(data)\n",
    "\n",
    "data.add(4)\n",
    "print(data)\n",
    "\n",
    "data.update([5,6])\n",
    "print(data)\n",
    "\n",
    "data.remove(3)\n",
    "print(data)"
   ]
  },
  {
   "cell_type": "code",
   "execution_count": 35,
   "metadata": {},
   "outputs": [
    {
     "name": "stdout",
     "output_type": "stream",
     "text": [
      "학점: B\n"
     ]
    }
   ],
   "source": [
    "score = 85\n",
    "\n",
    "if score >= 90:\n",
    "    print('학점: A')\n",
    "\n",
    "elif score >= 80:\n",
    "    print('학점: B')\n",
    "\n",
    "elif score >= 70:\n",
    "    print('학점: C')\n",
    "\n",
    "else:\n",
    "    print('학점:F')"
   ]
  },
  {
   "attachments": {},
   "cell_type": "markdown",
   "metadata": {},
   "source": [
    "논리연산자\n",
    "\n",
    "x and y : x와 y가 참일 때 참이다. \n",
    "x or y : x와 y 중에 하나만 참이어도 참이다. \n",
    "not x : x가 거짓일 때 참이다. "
   ]
  },
  {
   "attachments": {},
   "cell_type": "markdown",
   "metadata": {},
   "source": [
    "x in 리스트 - 리스트 안에 x가 들어있을 때 참이다. \n",
    "x not in 리스트 - 리스트 안에 x가 들어가 있지 않을 때 참이다. \n"
   ]
  },
  {
   "cell_type": "code",
   "execution_count": 36,
   "metadata": {},
   "outputs": [
    {
     "name": "stdout",
     "output_type": "stream",
     "text": [
      "프로그램을 종료합니다.\n"
     ]
    }
   ],
   "source": [
    "score = 85\n",
    "\n",
    "if score >= 80:\n",
    "    pass\n",
    "\n",
    "else: \n",
    "    print(\"성적이 80점 미만입니다.\")\n",
    "\n",
    "print(\"프로그램을 종료합니다.\")"
   ]
  },
  {
   "cell_type": "code",
   "execution_count": 39,
   "metadata": {},
   "outputs": [
    {
     "name": "stdout",
     "output_type": "stream",
     "text": [
      "Success\n"
     ]
    }
   ],
   "source": [
    "score = 85\n",
    "\n",
    "if score >= 80: result = \"Success\"\n",
    "else: result =\"Fail\"\n",
    "\n",
    "print(result)\n"
   ]
  },
  {
   "cell_type": "code",
   "execution_count": 40,
   "metadata": {},
   "outputs": [
    {
     "name": "stdout",
     "output_type": "stream",
     "text": [
      "Success\n"
     ]
    }
   ],
   "source": [
    "#조건부 표현식\n",
    "\n",
    "score = 85\n",
    "result =  \"Success\" if score >= 80 else \"Fail\"\n",
    "\n",
    "print(result)"
   ]
  },
  {
   "cell_type": "code",
   "execution_count": 41,
   "metadata": {},
   "outputs": [
    {
     "name": "stdout",
     "output_type": "stream",
     "text": [
      "[1, 2, 4]\n"
     ]
    }
   ],
   "source": [
    "a = [1,2,3,4,5,5,5]\n",
    "remove_set = {3, 5}\n",
    "\n",
    "result = [i for i in a if i not in remove_set]\n",
    "\n",
    "print(result)"
   ]
  },
  {
   "cell_type": "code",
   "execution_count": 42,
   "metadata": {},
   "outputs": [
    {
     "name": "stdout",
     "output_type": "stream",
     "text": [
      "[1, 2, 4]\n"
     ]
    }
   ],
   "source": [
    "result = []\n",
    "\n",
    "for i in a:\n",
    "    if i not in remove_set:\n",
    "        result.append(i)\n",
    "    \n",
    "\n",
    "print(result)"
   ]
  },
  {
   "cell_type": "code",
   "execution_count": 44,
   "metadata": {},
   "outputs": [
    {
     "name": "stdout",
     "output_type": "stream",
     "text": [
      "x는 0 이상 20 미만의 수입니다.\n",
      "x는 0 이상 20 미만의 수입니다.\n"
     ]
    }
   ],
   "source": [
    "x = 15\n",
    "\n",
    "if x > 0 and x < 20 :\n",
    "    print(\"x는 0 이상 20 미만의 수입니다.\")\n",
    "\n",
    "if  0 < x < 20:\n",
    "    print(\"x는 0 이상 20 미만의 수입니다.\")"
   ]
  },
  {
   "cell_type": "code",
   "execution_count": 46,
   "metadata": {},
   "outputs": [
    {
     "name": "stdout",
     "output_type": "stream",
     "text": [
      "9\n",
      "10\n"
     ]
    }
   ],
   "source": [
    "i = 1\n",
    "result = 0 \n",
    "\n",
    "while i <= 9:\n",
    "    result += 1\n",
    "    i += 1\n",
    "\n",
    "print(result)\n",
    "print(i)"
   ]
  },
  {
   "cell_type": "code",
   "execution_count": 47,
   "metadata": {},
   "outputs": [
    {
     "name": "stdout",
     "output_type": "stream",
     "text": [
      "45\n"
     ]
    }
   ],
   "source": [
    "result = 0\n",
    "\n",
    "for i in range(1, 10):\n",
    "    result += i\n",
    "\n",
    "print(result)\n"
   ]
  },
  {
   "cell_type": "code",
   "execution_count": 48,
   "metadata": {},
   "outputs": [
    {
     "name": "stdout",
     "output_type": "stream",
     "text": [
      "25\n"
     ]
    }
   ],
   "source": [
    "i = 1\n",
    "result = 0\n",
    "\n",
    "while i <= 9:\n",
    "    if i % 2 == 1:\n",
    "        result += i\n",
    "    \n",
    "    i += 1\n",
    "\n",
    "print(result)\n"
   ]
  }
 ],
 "metadata": {
  "kernelspec": {
   "display_name": "python_programming",
   "language": "python",
   "name": "python3"
  },
  "language_info": {
   "codemirror_mode": {
    "name": "ipython",
    "version": 3
   },
   "file_extension": ".py",
   "mimetype": "text/x-python",
   "name": "python",
   "nbconvert_exporter": "python",
   "pygments_lexer": "ipython3",
   "version": "3.7.15 (default, Nov 24 2022, 18:44:54) [MSC v.1916 64 bit (AMD64)]"
  },
  "orig_nbformat": 4,
  "vscode": {
   "interpreter": {
    "hash": "8c62e94b129478ce2432141dc582b00c5b3df51d8cb9add5d2ff838d2e0af692"
   }
  }
 },
 "nbformat": 4,
 "nbformat_minor": 2
}
