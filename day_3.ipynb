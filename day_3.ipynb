{
 "cells": [
  {
   "attachments": {},
   "cell_type": "markdown",
   "metadata": {},
   "source": [
    "그리디(탐욕법) : 현재 상황에서 지금 당장 좋은 것만 고르는 방법 <br> 사전에 외우고 있지 않아도 풀 수 있을 가능성이 높은 문제 유형 <br> 반면 정렬, 최단 경로 등의 알고리즘 유형은 이미 그 알고리즘 사용 방법을 정확히 알고 있어야만 해결 가능한 경우가 많다."
   ]
  },
  {
   "cell_type": "code",
   "execution_count": 1,
   "metadata": {},
   "outputs": [
    {
     "name": "stdout",
     "output_type": "stream",
     "text": [
      "6\n"
     ]
    }
   ],
   "source": [
    "#거스름돈\n",
    "#화폐의 종류가 k 라고 할 때 아래 소스 코드의 시간 복잡도는 o(k)이다. \n",
    "#알고리즘의 시간 복잡도는 거슬러 줘야 하는 금액의 크기와는 무관하며, 동전의 총 종류에만 영향을 받는다. \n",
    "\n",
    "n = 1260\n",
    "count = 0\n",
    "\n",
    "coin_types = [500, 100, 50, 10]\n",
    "\n",
    "for coin in coin_types:\n",
    "\n",
    "    count += n // coin\n",
    "\n",
    "    n = n % coin\n",
    "\n",
    "print(count)\n",
    "\n"
   ]
  },
  {
   "cell_type": "code",
   "execution_count": 3,
   "metadata": {},
   "outputs": [
    {
     "name": "stdout",
     "output_type": "stream",
     "text": [
      "5 8 3\n",
      "[9, 6, 5, 4, 1]\n"
     ]
    }
   ],
   "source": [
    "n, m, k = map(int, input().split())\n",
    "data = list(map(int, input().split()))\n",
    "\n",
    "\n",
    "print(n, m, k); print(data)\n",
    "\n",
    "data = sorted(data, reverse=True)\n",
    "\n",
    "count = 0\n",
    "\n",
    "\n",
    "\n",
    "\n"
   ]
  },
  {
   "cell_type": "code",
   "execution_count": 4,
   "metadata": {},
   "outputs": [
    {
     "name": "stdout",
     "output_type": "stream",
     "text": [
      "46\n"
     ]
    }
   ],
   "source": [
    "#큰 수의 법칙\n",
    "#가장 큰 수를 k번 더하고 두 번째로 큰 수를 한번 더하는 연산을 반복한다. m이 0이 될 때까지 \n",
    "\n",
    "n, m, k = map(int, input().split())\n",
    "data = list(map(int, input().split()))\n",
    "\n",
    "data.sort()\n",
    "\n",
    "first = data[n-1]\n",
    "second = data[n-2]\n",
    "\n",
    "result = 0\n",
    "\n",
    "while True:\n",
    "    for i in range(k): #가장 큰 수를 k번 더하기 \n",
    "        if m == 0: #m이 0이라면 반복문 탈출\n",
    "            break\n",
    "\n",
    "        result += first\n",
    "        m -= 1 #더할 때마다 1씩 빼기\n",
    "\n",
    "    if m == 0: #m이 0이라면 반복문 탈출\n",
    "        break\n",
    "\n",
    "    result += second\n",
    "    m -= 1 #더할 때마다 1씩 빼기\n",
    "\n",
    "print(result)\n"
   ]
  },
  {
   "cell_type": "code",
   "execution_count": 7,
   "metadata": {},
   "outputs": [
    {
     "name": "stdout",
     "output_type": "stream",
     "text": [
      "46\n"
     ]
    }
   ],
   "source": [
    "n, m, k = map(int, input().split())\n",
    "data = list(map(int, input().split()))\n",
    "\n",
    "data.sort()\n",
    "\n",
    "first = data[n-1]\n",
    "second = data[n-2]\n",
    "\n",
    "count = int( m / (k+1) )*k + ( m % (k+1) )\n",
    "\n",
    "result = 0 \n",
    "result += (count) * first\n",
    "result += ( m - count )*second\n",
    "\n",
    "print(result)\n"
   ]
  }
 ],
 "metadata": {
  "kernelspec": {
   "display_name": "python_programming",
   "language": "python",
   "name": "python3"
  },
  "language_info": {
   "codemirror_mode": {
    "name": "ipython",
    "version": 3
   },
   "file_extension": ".py",
   "mimetype": "text/x-python",
   "name": "python",
   "nbconvert_exporter": "python",
   "pygments_lexer": "ipython3",
   "version": "3.7.15"
  },
  "orig_nbformat": 4,
  "vscode": {
   "interpreter": {
    "hash": "8c62e94b129478ce2432141dc582b00c5b3df51d8cb9add5d2ff838d2e0af692"
   }
  }
 },
 "nbformat": 4,
 "nbformat_minor": 2
}
