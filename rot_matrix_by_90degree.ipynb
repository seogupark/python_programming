{
 "cells": [
  {
   "cell_type": "code",
   "execution_count": null,
   "metadata": {},
   "outputs": [],
   "source": [
    "a = [\n",
    "    [1, 2, 3, 4],\n",
    "    [5, 6, 7, 8],\n",
    "    [9, 10, 11, 12]\n",
    "]\n",
    "\n",
    "print(a)\n",
    "\n",
    "#1번째 row가 3번째 열 2번째 row가 2번째 열 3번째 row가 1번째 열\n",
    "\n",
    "def rot_matrix_by_90degree(a):\n",
    "\n",
    "    row_length = len(a)\n",
    "    column_length = len(a[0])\n",
    "\n",
    "    res = [[0]*row_length for _ in range(column_length)]\n",
    "\n",
    "    for r in range(row_length):\n",
    "        for c in range(column_length):\n",
    "\n",
    "            res[c][(row_length-1) - r] = a[r][c]\n",
    "\n",
    "    \n",
    "    return res\n",
    "\n",
    "print(rot_matrix_by_90degree(a))"
   ]
  }
 ],
 "metadata": {
  "kernelspec": {
   "display_name": "python_programming",
   "language": "python",
   "name": "python3"
  },
  "language_info": {
   "name": "python",
   "version": "3.7.15 (default, Nov 24 2022, 18:44:54) [MSC v.1916 64 bit (AMD64)]"
  },
  "orig_nbformat": 4,
  "vscode": {
   "interpreter": {
    "hash": "8c62e94b129478ce2432141dc582b00c5b3df51d8cb9add5d2ff838d2e0af692"
   }
  }
 },
 "nbformat": 4,
 "nbformat_minor": 2
}
