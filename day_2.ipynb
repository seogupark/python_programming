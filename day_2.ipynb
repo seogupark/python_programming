{
 "cells": [
  {
   "cell_type": "code",
   "execution_count": 1,
   "metadata": {},
   "outputs": [
    {
     "name": "stdout",
     "output_type": "stream",
     "text": [
      "[9, 8, 7, 4]\n"
     ]
    }
   ],
   "source": [
    "n = int(input())\n",
    "\n",
    "data = list(map(int, input().split()))\n",
    "\n",
    "data.sort(reverse= True)\n",
    "\n",
    "print(data)"
   ]
  },
  {
   "cell_type": "code",
   "execution_count": 3,
   "metadata": {},
   "outputs": [
    {
     "name": "stdout",
     "output_type": "stream",
     "text": [
      "3 5 8\n"
     ]
    }
   ],
   "source": [
    "n, m, k = map(int, input().split())\n",
    "\n",
    "print(n, m, k)"
   ]
  },
  {
   "cell_type": "code",
   "execution_count": null,
   "metadata": {},
   "outputs": [],
   "source": [
    "a = 1 \n",
    "b = 2\n",
    "\n",
    "print(a, b)"
   ]
  },
  {
   "cell_type": "code",
   "execution_count": null,
   "metadata": {},
   "outputs": [],
   "source": [
    "import sys\n",
    "\n",
    "data = sys.stdin.readline().rstrip()\n",
    "print(data)\n"
   ]
  },
  {
   "cell_type": "code",
   "execution_count": 2,
   "metadata": {},
   "outputs": [
    {
     "name": "stdout",
     "output_type": "stream",
     "text": [
      "1\n",
      "2\n"
     ]
    }
   ],
   "source": [
    "#print는 기본적으로 출력 이후에 줄 바꿈을 수행한다. \n",
    "\n",
    "a = 1\n",
    "b = 2\n",
    "\n",
    "print(a); print(b)"
   ]
  },
  {
   "cell_type": "code",
   "execution_count": 3,
   "metadata": {},
   "outputs": [
    {
     "name": "stdout",
     "output_type": "stream",
     "text": [
      "정답은 8입니다.\n"
     ]
    }
   ],
   "source": [
    "answer = 8\n",
    "\n",
    "print(\"정답은 \" + str(answer) + \"입니다.\")"
   ]
  },
  {
   "cell_type": "code",
   "execution_count": 4,
   "metadata": {},
   "outputs": [
    {
     "name": "stdout",
     "output_type": "stream",
     "text": [
      "정답은 8 입니다.\n"
     ]
    }
   ],
   "source": [
    "print(\"정답은\", str(answer), \"입니다.\")"
   ]
  },
  {
   "cell_type": "code",
   "execution_count": 5,
   "metadata": {},
   "outputs": [
    {
     "name": "stdout",
     "output_type": "stream",
     "text": [
      "정답은 8입니다.\n"
     ]
    }
   ],
   "source": [
    "#자료형의 변환 업이도 문자열과 정수를 함께 넣을 수 있다.\n",
    "\n",
    "print(f\"정답은 {answer}입니다.\")"
   ]
  },
  {
   "cell_type": "code",
   "execution_count": 6,
   "metadata": {},
   "outputs": [
    {
     "name": "stdout",
     "output_type": "stream",
     "text": [
      "15\n"
     ]
    }
   ],
   "source": [
    "#iterable 객체 : 리스트, 사전 자료형, 튜플 자료형\n",
    "result = sum([1,2,3,4,5])\n",
    "\n",
    "print(result)"
   ]
  },
  {
   "cell_type": "code",
   "execution_count": 8,
   "metadata": {},
   "outputs": [
    {
     "name": "stdout",
     "output_type": "stream",
     "text": [
      "2\n",
      "7\n"
     ]
    }
   ],
   "source": [
    "result = min(7, 3, 5, 2)\n",
    "\n",
    "print(result)\n",
    "\n",
    "result = max(7, 3, 5, 2)\n",
    "print(result)"
   ]
  },
  {
   "cell_type": "code",
   "execution_count": 10,
   "metadata": {},
   "outputs": [
    {
     "name": "stdout",
     "output_type": "stream",
     "text": [
      "56\n"
     ]
    }
   ],
   "source": [
    "#eval() 함수는 수학 수식이 문자열 형식으로 들어오면 해당 수식을 계산한 결과를 반환한다. \n",
    "result = eval(\"(3 + 5) * 7\")\n",
    "print(result)"
   ]
  },
  {
   "cell_type": "code",
   "execution_count": 11,
   "metadata": {},
   "outputs": [
    {
     "name": "stdout",
     "output_type": "stream",
     "text": [
      "[1, 4, 5, 8, 9]\n"
     ]
    }
   ],
   "source": [
    "a = [9, 1, 8, 5, 4]\n",
    "\n",
    "result = sorted(a)\n",
    "print(result)"
   ]
  },
  {
   "cell_type": "code",
   "execution_count": 12,
   "metadata": {},
   "outputs": [
    {
     "name": "stdout",
     "output_type": "stream",
     "text": [
      "[9, 8, 5, 4, 1]\n"
     ]
    }
   ],
   "source": [
    "result = sorted(a, reverse = True)\n",
    "print(result)"
   ]
  },
  {
   "cell_type": "code",
   "execution_count": 13,
   "metadata": {},
   "outputs": [
    {
     "name": "stdout",
     "output_type": "stream",
     "text": [
      "[('이순신', 75), ('아무개', 50), ('홍길동', 35)]\n"
     ]
    }
   ],
   "source": [
    "b = [('홍길동', 35), ('이순신', 75), ('아무개', 50)]\n",
    "\n",
    "result = sorted(b, key = lambda x: x[1], reverse= True)\n",
    "print(result)"
   ]
  },
  {
   "cell_type": "code",
   "execution_count": 14,
   "metadata": {},
   "outputs": [
    {
     "name": "stdout",
     "output_type": "stream",
     "text": [
      "[1, 4, 5, 8, 9]\n"
     ]
    }
   ],
   "source": [
    "#리스트와 같은 iterable 객체는 기본으로 sort() 함수를 내장하고 있어서 sorted() 함수를 사용하지 않고도 sort() 함수를 사용해서 정렬할 수 있다. \n",
    "data = [9, 1, 8, 5, 4]\n",
    "data.sort()\n",
    "\n",
    "print(data)"
   ]
  },
  {
   "cell_type": "code",
   "execution_count": 15,
   "metadata": {},
   "outputs": [
    {
     "name": "stdout",
     "output_type": "stream",
     "text": [
      "[('a', 'b', 'c'), ('a', 'c', 'b'), ('b', 'a', 'c'), ('b', 'c', 'a'), ('c', 'a', 'b'), ('c', 'b', 'a')]\n"
     ]
    }
   ],
   "source": [
    "from itertools import permutations\n",
    "\n",
    "data = ['a', 'b', 'c']\n",
    "result = list(permutations(data))\n",
    "\n",
    "print(result)"
   ]
  },
  {
   "cell_type": "code",
   "execution_count": 16,
   "metadata": {},
   "outputs": [
    {
     "name": "stdout",
     "output_type": "stream",
     "text": [
      "[('a', 'b'), ('a', 'c'), ('b', 'c')]\n"
     ]
    }
   ],
   "source": [
    "from itertools import combinations\n",
    "\n",
    "result = list(combinations(data, 2)) #2개를 뽑는 모든 조합 구하기 \n",
    "\n",
    "print(result)"
   ]
  },
  {
   "cell_type": "code",
   "execution_count": 17,
   "metadata": {},
   "outputs": [
    {
     "name": "stdout",
     "output_type": "stream",
     "text": [
      "[('a', 'a'), ('a', 'b'), ('a', 'c'), ('b', 'a'), ('b', 'b'), ('b', 'c'), ('c', 'a'), ('c', 'b'), ('c', 'c')]\n"
     ]
    }
   ],
   "source": [
    "from itertools import product\n",
    "\n",
    "result = list(product(data, repeat=2))\n",
    "\n",
    "print(result)"
   ]
  },
  {
   "cell_type": "code",
   "execution_count": 18,
   "metadata": {},
   "outputs": [
    {
     "name": "stdout",
     "output_type": "stream",
     "text": [
      "[('a', 'a'), ('a', 'b'), ('a', 'c'), ('b', 'b'), ('b', 'c'), ('c', 'c')]\n"
     ]
    }
   ],
   "source": [
    "from itertools import combinations_with_replacement\n",
    "\n",
    "result = list(combinations_with_replacement(data, 2))\n",
    "\n",
    "print(result)"
   ]
  },
  {
   "cell_type": "code",
   "execution_count": 19,
   "metadata": {},
   "outputs": [
    {
     "name": "stdout",
     "output_type": "stream",
     "text": [
      "[0, 1, 2, 3, 4, 5, 6, 7, 8, 9]\n"
     ]
    }
   ],
   "source": [
    "import heapq\n",
    "\n",
    "def heapsort(iterable):\n",
    "    h = []\n",
    "    result = []\n",
    "\n",
    "    for value in iterable:\n",
    "        heapq.heappush(h, value)\n",
    "    \n",
    "    for i in range(len(h)):\n",
    "        result.append(heapq.heappop(h))\n",
    "\n",
    "    return result\n",
    "\n",
    "result = heapsort([1,3,5,7,9,2,4,6,8,0])\n",
    "print(result)"
   ]
  },
  {
   "cell_type": "code",
   "execution_count": 20,
   "metadata": {},
   "outputs": [
    {
     "name": "stdout",
     "output_type": "stream",
     "text": [
      "[9, 8, 7, 6, 5, 4, 3, 2, 1, 0]\n"
     ]
    }
   ],
   "source": [
    "def heapsort(iterable):\n",
    "    h = []\n",
    "    result = []\n",
    "\n",
    "    for value in iterable:\n",
    "        heapq.heappush(h, -value)\n",
    "    \n",
    "    for i in range(len(h)):\n",
    "        result.append(-heapq.heappop(h))\n",
    "\n",
    "    \n",
    "    return result\n",
    "\n",
    "result = heapsort([1,3,5,7,9,2,4,6,8,0])\n",
    "\n",
    "print(result)\n"
   ]
  },
  {
   "cell_type": "code",
   "execution_count": 21,
   "metadata": {},
   "outputs": [
    {
     "name": "stdout",
     "output_type": "stream",
     "text": [
      "2\n",
      "4\n"
     ]
    }
   ],
   "source": [
    "#이진 탐색 구현을 위한 bisect 라이브러리 제공\n",
    "#bisect 라이브러리는 '정렬된 배열'에서 특정한 원소를 찾아야 할 때 매우 효과적으로 사용된다.\n",
    "\n",
    "from bisect import bisect_left, bisect_right\n",
    "\n",
    "a = [1,2,4,4,8]\n",
    "x = 4\n",
    "\n",
    "print(bisect_left(a, x)) #정렬된 순서를 유지하면서 리스트 a에 데이터 x를 삽입할 가장 왼쪽 인덱스를 찾는 메서드 \n",
    "print(bisect_right(a, x))\n"
   ]
  },
  {
   "attachments": {},
   "cell_type": "markdown",
   "metadata": {},
   "source": [
    "bisect_left() 함수와 bisect_right() 함수는 '정렬된 리스트' 에서 '값이 특정 범위에 속하는 원소의 개수'를 구하고자 할 때, 효과적으로 사용될 수 있다. \n"
   ]
  },
  {
   "cell_type": "code",
   "execution_count": 22,
   "metadata": {},
   "outputs": [
    {
     "name": "stdout",
     "output_type": "stream",
     "text": [
      "2\n",
      "6\n"
     ]
    }
   ],
   "source": [
    "from bisect import bisect_left, bisect_right\n",
    "\n",
    "def count_by_range(a, left_value, right_value):\n",
    "    right_index = bisect_right(a, right_value)\n",
    "    left_index = bisect_left(a, left_value)\n",
    "\n",
    "    return right_index - left_index\n",
    "\n",
    "\n",
    "a = [1, 2, 3, 3, 3, 3, 4, 4, 8, 9]\n",
    "\n",
    "print(count_by_range(a, 4, 4))\n",
    "\n",
    "print(count_by_range(a, -1, 3))"
   ]
  },
  {
   "cell_type": "code",
   "execution_count": 23,
   "metadata": {},
   "outputs": [
    {
     "name": "stdout",
     "output_type": "stream",
     "text": [
      "[1, 2, 3, 4, 5, 6, 7, 8, 9, 10, 11, 12, 13, 14, 15, 16, 17, 18, 19, 20, 21, 22, 23, 24, 25, 26, 27, 28, 29, 30, 31, 32, 33, 34, 35, 36, 37, 38, 39, 40, 41, 42, 43, 44, 45, 46, 47, 48, 49, 50, 51, 52, 53, 54, 55, 56, 57, 58, 59, 60, 61, 62, 63, 64, 65, 66, 67, 68, 69, 70, 71, 72, 73, 74, 75, 76, 77, 78, 79, 80, 81, 82, 83, 84, 85, 86, 87, 88, 89, 90, 91, 92, 93, 94, 95, 96, 97, 98, 99, 100]\n"
     ]
    }
   ],
   "source": [
    "a = list()\n",
    "\n",
    "for i in range(100):\n",
    "    a.append(i+1)\n",
    "\n",
    "print(a)"
   ]
  },
  {
   "cell_type": "code",
   "execution_count": 24,
   "metadata": {},
   "outputs": [
    {
     "name": "stdout",
     "output_type": "stream",
     "text": [
      "38\n"
     ]
    }
   ],
   "source": [
    "print(count_by_range(a, 31, 68))"
   ]
  },
  {
   "cell_type": "code",
   "execution_count": 25,
   "metadata": {},
   "outputs": [
    {
     "name": "stdout",
     "output_type": "stream",
     "text": [
      "deque([1, 2, 3, 4, 5])\n",
      "[1, 2, 3, 4, 5]\n"
     ]
    }
   ],
   "source": [
    "from collections import deque\n",
    "\n",
    "data = deque([2, 3, 4])\n",
    "data.appendleft(1)\n",
    "data.append(5)\n",
    "\n",
    "print(data)\n",
    "print(list(data))"
   ]
  },
  {
   "cell_type": "code",
   "execution_count": 27,
   "metadata": {},
   "outputs": [
    {
     "name": "stdout",
     "output_type": "stream",
     "text": [
      "{'red': 2, 'blue': 3, 'green': 1}\n"
     ]
    }
   ],
   "source": [
    "#파이썬 collections 라이브러리의 Counter는 등장 횟수를 세는 기능을 제공한다. \n",
    "from collections import Counter\n",
    "\n",
    "counter = Counter(['red', 'blue', 'red', 'green', 'blue', 'blue'])\n",
    "\n",
    "counter =dict(counter)\n",
    "\n",
    "print(counter)"
   ]
  },
  {
   "cell_type": "code",
   "execution_count": 29,
   "metadata": {},
   "outputs": [
    {
     "name": "stdout",
     "output_type": "stream",
     "text": [
      "2\n",
      "3\n",
      "1\n"
     ]
    }
   ],
   "source": [
    "keys = counter.keys()\n",
    "\n",
    "for key in keys:\n",
    "    value = counter[key]\n",
    "\n",
    "    print(value)"
   ]
  },
  {
   "cell_type": "code",
   "execution_count": 30,
   "metadata": {},
   "outputs": [
    {
     "name": "stdout",
     "output_type": "stream",
     "text": [
      "120\n"
     ]
    }
   ],
   "source": [
    "import math\n",
    "\n",
    "print(math.factorial(5))\n"
   ]
  },
  {
   "cell_type": "code",
   "execution_count": 31,
   "metadata": {},
   "outputs": [
    {
     "name": "stdout",
     "output_type": "stream",
     "text": [
      "2.0\n"
     ]
    }
   ],
   "source": [
    "print(math.sqrt(4))"
   ]
  },
  {
   "cell_type": "code",
   "execution_count": 32,
   "metadata": {},
   "outputs": [
    {
     "name": "stdout",
     "output_type": "stream",
     "text": [
      "7\n"
     ]
    }
   ],
   "source": [
    "print(math.gcd(21,14)) #최대공약수"
   ]
  },
  {
   "cell_type": "code",
   "execution_count": 33,
   "metadata": {},
   "outputs": [
    {
     "name": "stdout",
     "output_type": "stream",
     "text": [
      "3.141592653589793\n",
      "2.718281828459045\n"
     ]
    }
   ],
   "source": [
    "print(math.pi)\n",
    "print(math.e)"
   ]
  },
  {
   "cell_type": "code",
   "execution_count": 36,
   "metadata": {},
   "outputs": [
    {
     "name": "stdout",
     "output_type": "stream",
     "text": [
      "[[0, 0, 0, 0], [0, 0, 0, 0], [0, 0, 0, 0]]\n",
      "[0, 0, 0, 0]\n",
      "[[1, 2, 3, 4], [0, 0, 0, 0], [0, 0, 0, 0]]\n"
     ]
    }
   ],
   "source": [
    "n = 3 \n",
    "m = 4\n",
    "\n",
    "a = [[0]*m for _ in range(n)]\n",
    "\n",
    "print(a)\n",
    "print(a[0])\n",
    "\n",
    "a[0] = [1,2,3,4]\n",
    "\n",
    "print(a)"
   ]
  },
  {
   "cell_type": "code",
   "execution_count": 42,
   "metadata": {},
   "outputs": [
    {
     "name": "stdout",
     "output_type": "stream",
     "text": [
      "3\n",
      "4\n"
     ]
    }
   ],
   "source": [
    "a = [\n",
    "    [1,2,3,4],\n",
    "    [5,6,7,8],\n",
    "    [9,10,11,12]\n",
    "]\n",
    "\n",
    "row_length = len(a)\n",
    "column_length = len(a[0])\n",
    "\n",
    "print(row_length)\n",
    "print(column_length)"
   ]
  },
  {
   "cell_type": "code",
   "execution_count": 43,
   "metadata": {},
   "outputs": [],
   "source": [
    "def rotate_a_matrix_by_90_degree(a):\n",
    "    row_length = len(a)\n",
    "    colmn_length = len(a[0])\n",
    "\n",
    "    res = [[0]*row_length for _ in range(colmn_length)]\n",
    "\n",
    "    for r in range(row_length):\n",
    "        for c in range(colmn_length):\n",
    "            res[c][(row_length - 1) - r] = a[r][c]\n",
    "\n",
    "        \n",
    "    return res\n",
    "\n"
   ]
  },
  {
   "cell_type": "code",
   "execution_count": 44,
   "metadata": {},
   "outputs": [
    {
     "name": "stdout",
     "output_type": "stream",
     "text": [
      "[[9, 5, 1], [10, 6, 2], [11, 7, 3], [12, 8, 4]]\n"
     ]
    }
   ],
   "source": [
    "print(rotate_a_matrix_by_90_degree(a))"
   ]
  }
 ],
 "metadata": {
  "kernelspec": {
   "display_name": "python_programming",
   "language": "python",
   "name": "python3"
  },
  "language_info": {
   "codemirror_mode": {
    "name": "ipython",
    "version": 3
   },
   "file_extension": ".py",
   "mimetype": "text/x-python",
   "name": "python",
   "nbconvert_exporter": "python",
   "pygments_lexer": "ipython3",
   "version": "3.7.15"
  },
  "orig_nbformat": 4,
  "vscode": {
   "interpreter": {
    "hash": "8c62e94b129478ce2432141dc582b00c5b3df51d8cb9add5d2ff838d2e0af692"
   }
  }
 },
 "nbformat": 4,
 "nbformat_minor": 2
}
